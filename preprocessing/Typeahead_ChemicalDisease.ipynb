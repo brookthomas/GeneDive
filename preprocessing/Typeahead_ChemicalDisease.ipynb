{
 "cells": [
  {
   "cell_type": "markdown",
   "metadata": {},
   "source": [
    "** Build Adjacency Matrix **"
   ]
  },
  {
   "cell_type": "code",
   "execution_count": 17,
   "metadata": {
    "collapsed": true
   },
   "outputs": [],
   "source": [
    "import sqlite3\n",
    "import json"
   ]
  },
  {
   "cell_type": "code",
   "execution_count": 18,
   "metadata": {
    "collapsed": true
   },
   "outputs": [],
   "source": [
    "DATABASE = \"data.sqlite\""
   ]
  },
  {
   "cell_type": "code",
   "execution_count": 19,
   "metadata": {
    "collapsed": true
   },
   "outputs": [],
   "source": [
    "conn = sqlite3.connect(DATABASE)\n",
    "cursor = conn.cursor()"
   ]
  },
  {
   "cell_type": "markdown",
   "metadata": {},
   "source": [
    "Queries"
   ]
  },
  {
   "cell_type": "code",
   "execution_count": 20,
   "metadata": {
    "collapsed": true
   },
   "outputs": [],
   "source": [
    "# For getting the maximum row id\n",
    "QUERY_MAX_ID = \"SELECT id FROM interactions ORDER BY id DESC LIMIT 1\"\n",
    "\n",
    "# Get interaction data\n",
    "QUERY_INTERACTION = \"SELECT geneids1, mention1, geneids2, mention2 FROM interactions WHERE id = {}\""
   ]
  },
  {
   "cell_type": "code",
   "execution_count": 21,
   "metadata": {
    "collapsed": true
   },
   "outputs": [],
   "source": [
    "max_id = cursor.execute(QUERY_MAX_ID).fetchone()[0]"
   ]
  },
  {
   "cell_type": "markdown",
   "metadata": {},
   "source": [
    "Step through every interaction.\n",
    "\n",
    "1. If geneids1 not in matrix - insert it as dict.\n",
    "2. If geneids2 not in matrix[geneids1] - insert it as []\n",
    "3. If probability not in matrix[geneids1][geneids2] - insert it.\n",
    "4. Perform the reverse."
   ]
  },
  {
   "cell_type": "code",
   "execution_count": 22,
   "metadata": {
    "collapsed": true
   },
   "outputs": [],
   "source": [
    "typeahead = {}\n",
    "final = []\n",
    "distribution = {}\n",
    "row_id = 0\n",
    "\n",
    "while row_id <= max_id:\n",
    "    row_id+= 1\n",
    "    \n",
    "    row = cursor.execute(QUERY_INTERACTION.format(row_id))\n",
    "    row = row.fetchone()\n",
    "    \n",
    "    if row == None:\n",
    "        continue\n",
    "       \n",
    "    id1 = row[0]\n",
    "    symbol1 = row[1]\n",
    "    id2 = row[2]\n",
    "    symbol2 = row[3]\n",
    "\n",
    "    # Only Gene-Gene for this pass\n",
    "    if id1[0] == 'C' or id2[0] == 'C':\n",
    "        pass\n",
    "    else:\n",
    "        continue\n",
    "\n",
    "    if id1[0] == 'C':\n",
    "        if symbol1 not in typeahead:\n",
    "            typeahead[symbol1] = []\n",
    "        if id1 not in typeahead[symbol1]:\n",
    "            typeahead[symbol1].append(id1)\n",
    "            \n",
    "    if id2[0] == 'C':\n",
    "        if symbol2 not in typeahead:\n",
    "            typeahead[symbol2] = []\n",
    "        if id2 not in typeahead[symbol2]:\n",
    "            typeahead[symbol2].append(id2)\n",
    "            \n",
    "for key in typeahead:\n",
    "    final.append( {\"symbol\": key, \"values\": typeahead[key]} )"
   ]
  },
  {
   "cell_type": "code",
   "execution_count": 23,
   "metadata": {
    "collapsed": true
   },
   "outputs": [],
   "source": [
    "with open(\"chemical_id.json\", \"w+\") as file:\n",
    "    file.write(json.dumps( final ))"
   ]
  },
  {
   "cell_type": "code",
   "execution_count": 24,
   "metadata": {},
   "outputs": [
    {
     "name": "stdout",
     "output_type": "stream",
     "text": [
      "{}\n"
     ]
    }
   ],
   "source": [
    "print(distribution)"
   ]
  },
  {
   "cell_type": "code",
   "execution_count": null,
   "metadata": {
    "collapsed": true
   },
   "outputs": [],
   "source": []
  }
 ],
 "metadata": {
  "kernelspec": {
   "display_name": "Python 3",
   "language": "python",
   "name": "python3"
  },
  "language_info": {
   "codemirror_mode": {
    "name": "ipython",
    "version": 3
   },
   "file_extension": ".py",
   "mimetype": "text/x-python",
   "name": "python",
   "nbconvert_exporter": "python",
   "pygments_lexer": "ipython3",
   "version": "3.6.2"
  }
 },
 "nbformat": 4,
 "nbformat_minor": 2
}

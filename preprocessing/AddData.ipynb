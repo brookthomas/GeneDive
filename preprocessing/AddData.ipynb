{
 "cells": [
  {
   "cell_type": "markdown",
   "metadata": {},
   "source": [
    "# Extract-Transform-Load Script\n",
    "\n",
    "Extract-Transform-Load Scripts (ETLS) are common tools in data management. The purpose of ETLS is to gather relevant data (both direct and inferred) from public databases and capture important features in a possibly different data structure schema for specific analysis.\n",
    "\n",
    "## PubMed Central ETLS Example\n",
    "\n",
    "This script will Extract data from the CSV files provided to us by Stanford, Transform the data into a format usable by GeneDive, and then Load the data into the GeneDive sqlite database.\n",
    "\n",
    "Whenever new data is obtained for GeneDive, this process should be run against that dataset. "
   ]
  },
  {
   "cell_type": "code",
   "execution_count": 1,
   "metadata": {
    "collapsed": true
   },
   "outputs": [],
   "source": [
    "import re\n",
    "import sqlite3"
   ]
  },
  {
   "cell_type": "code",
   "execution_count": 2,
   "metadata": {
    "collapsed": true
   },
   "outputs": [],
   "source": [
    "INTERACTIONS_FILE = \"pmc.csv\"\n",
    "DELIMITER = \"\\t\"\n",
    "DATABASE = \"data.sqlite\""
   ]
  },
  {
   "cell_type": "markdown",
   "metadata": {},
   "source": [
    "If write is false, the script will run but not write anything to the database. This keeps it safe while you're nosing around, and can also be useful if you need to re-generate the complete typeahead/adjacency files."
   ]
  },
  {
   "cell_type": "code",
   "execution_count": 3,
   "metadata": {
    "collapsed": true
   },
   "outputs": [],
   "source": [
    "WRITE = True"
   ]
  },
  {
   "cell_type": "code",
   "execution_count": 4,
   "metadata": {
    "collapsed": true
   },
   "outputs": [],
   "source": [
    "conn = sqlite3.connect(DATABASE)\n",
    "cursor = conn.cursor()"
   ]
  },
  {
   "cell_type": "markdown",
   "metadata": {},
   "source": [
    "Map the columns as they appear in the file to the correct values."
   ]
  },
  {
   "cell_type": "code",
   "execution_count": 5,
   "metadata": {
    "collapsed": true
   },
   "outputs": [],
   "source": [
    "interactions = []\n",
    "\n",
    "with open(INTERACTIONS_FILE) as file:\n",
    "    for line in file:\n",
    "        line = line[:-1]\n",
    "        line = line.split(DELIMITER)\n",
    "        \n",
    "        interaction = {\n",
    "          \"journal\": line[0],\n",
    "          \"article_id\": line[1],\n",
    "          \"pubmed_id\": line[2],\n",
    "          \"sentence_id\": line[3],\n",
    "          \"mention1_offset\": line[5],\n",
    "          \"mention2_offset\": line[4],\n",
    "          \"mention1\": line[6],\n",
    "          \"mention2\": line[7],\n",
    "          \"geneids1\": line[8],\n",
    "          \"geneids2\": line[9],\n",
    "          \"probability\": line[10],\n",
    "          \"excerpt\": line[11]    \n",
    "        }\n",
    "        \n",
    "        interactions.append(interaction)"
   ]
  },
  {
   "cell_type": "markdown",
   "metadata": {},
   "source": [
    "Remove any interactions for which the a gene traces to multiple IDs."
   ]
  },
  {
   "cell_type": "code",
   "execution_count": 6,
   "metadata": {
    "collapsed": true
   },
   "outputs": [],
   "source": [
    "interactions = [i for i in interactions if ( ';' not in i['geneids1'] and ';' not in i['geneids2'] ) ]"
   ]
  },
  {
   "cell_type": "markdown",
   "metadata": {},
   "source": [
    "GeneDive expects the target genes in the excerpt to be wrapped in pound signs. This is important because a sentence may mention the target gene multiple times, so we need to use the offset data her to make sure we tag the right mention."
   ]
  },
  {
   "cell_type": "code",
   "execution_count": 7,
   "metadata": {
    "collapsed": true
   },
   "outputs": [],
   "source": [
    "for i in interactions:\n",
    "    excerpt = i['excerpt']\n",
    "    \n",
    "    excerpt = re.sub('\"', '', excerpt)\n",
    "    tokens = excerpt.split(\" \")\n",
    "    offset1 = int(i['mention1_offset'])\n",
    "    offset2 = int(i['mention2_offset'])\n",
    "\n",
    "    tokens[offset1] = \"\".join([\"#\",tokens[offset1],\"#\"])\n",
    "    tokens[offset2] = \"\".join([\"#\",tokens[offset2],\"#\"])\n",
    "    \n",
    "    i['excerpt'] = \" \".join(tokens)"
   ]
  },
  {
   "cell_type": "markdown",
   "metadata": {},
   "source": [
    "**Specific for PMC Data**\n",
    "\n",
    "We didn't get Journal Data - we need to extract it from the article titles. Comment out the next section if journal titles were included."
   ]
  },
  {
   "cell_type": "code",
   "execution_count": 8,
   "metadata": {
    "collapsed": true
   },
   "outputs": [],
   "source": [
    "for i in interactions:\n",
    "    journal = i['article_id'].split(\"_\")\n",
    "    x = 0\n",
    "\n",
    "    while x < len(journal):\n",
    "        if journal[x][:2] == \"19\" or journal[x][:2] == \"20\":\n",
    "            journal = \" \".join(journal[:x])\n",
    "            break\n",
    "            \n",
    "        x+= 1\n",
    "\n",
    "    i['journal'] = journal"
   ]
  },
  {
   "cell_type": "markdown",
   "metadata": {},
   "source": [
    "Our insert statement - probably don't need to touch this"
   ]
  },
  {
   "cell_type": "code",
   "execution_count": 9,
   "metadata": {
    "collapsed": true
   },
   "outputs": [],
   "source": [
    "INTERACTIONS_WRITE = '''insert into interactions ( journal, article_id, pubmed_id, sentence_id, mention1_offset, mention2_offset, mention1, mention2, geneids1, geneids2, probability, context, section, reactome ) values ( \"{}\", \"{}\", \"{}\", \"{}\", \"{}\", \"{}\", \"{}\", \"{}\", \"{}\", \"{}\", \"{}\", \"{}\", \"{}\", \"{}\" );'''"
   ]
  },
  {
   "cell_type": "code",
   "execution_count": 10,
   "metadata": {
    "collapsed": true
   },
   "outputs": [],
   "source": [
    "for interaction in interactions:\n",
    "    statement = INTERACTIONS_WRITE.format(\n",
    "        interaction['journal'],\n",
    "        interaction['article_id'],\n",
    "        interaction['pubmed_id'],\n",
    "        interaction['sentence_id'],\n",
    "        interaction['mention1_offset'],\n",
    "        interaction['mention2_offset'],\n",
    "        interaction['mention1'],\n",
    "        interaction['mention2'],\n",
    "        interaction['geneids1'],\n",
    "        interaction['geneids2'],\n",
    "        interaction['probability'],\n",
    "        interaction['excerpt'],\n",
    "        \"Unknown\",\n",
    "        0\n",
    "    )\n",
    "    \n",
    "    cursor.execute(statement)\n",
    "\n",
    "if WRITE:\n",
    "    conn.commit()\n",
    "\n",
    "conn.close()"
   ]
  },
  {
   "cell_type": "code",
   "execution_count": null,
   "metadata": {
    "collapsed": true
   },
   "outputs": [],
   "source": []
  }
 ],
 "metadata": {
  "kernelspec": {
   "display_name": "Python 3",
   "language": "python",
   "name": "python3"
  },
  "language_info": {
   "codemirror_mode": {
    "name": "ipython",
    "version": 3
   },
   "file_extension": ".py",
   "mimetype": "text/x-python",
   "name": "python",
   "nbconvert_exporter": "python",
   "pygments_lexer": "ipython3",
   "version": "3.6.2"
  }
 },
 "nbformat": 4,
 "nbformat_minor": 2
}
